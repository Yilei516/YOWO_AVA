{
 "cells": [
  {
   "cell_type": "code",
   "execution_count": 1,
   "id": "metric-choice",
   "metadata": {},
   "outputs": [],
   "source": [
    "from __future__ import print_function\n",
    "import os\n",
    "import sys\n",
    "import time\n",
    "import math\n",
    "import random\n",
    "\n",
    "import torch\n",
    "import torch.nn as nn\n",
    "import torch.nn.functional as F\n",
    "import torch.optim as optim\n",
    "import torch.backends.cudnn as cudnn\n",
    "from torchvision import datasets, transforms\n",
    "\n",
    "from datasets import list_dataset\n",
    "from datasets.ava_dataset import Ava \n",
    "from core.optimization import *\n",
    "from cfg import parser\n",
    "from core.utils import *\n",
    "from core.region_loss import RegionLoss, RegionLoss_Ava\n",
    "from core.model import YOWO, get_fine_tuning_parameters\n",
    "\n",
    "import wandb\n",
    "from torch.utils.data import RandomSampler"
   ]
  },
  {
   "cell_type": "code",
   "execution_count": 13,
   "id": "corresponding-longitude",
   "metadata": {},
   "outputs": [],
   "source": [
    "class Args:\n",
    "    def __init__(self):\n",
    "        self.cfg_file = 'cfg/ava.yaml'\n",
    "        self.dataset = 'ava'\n",
    "        self.opts = None"
   ]
  },
  {
   "cell_type": "code",
   "execution_count": 14,
   "id": "established-region",
   "metadata": {},
   "outputs": [],
   "source": [
    "args  = Args()\n",
    "cfg   = parser.load_config(args)"
   ]
  }
 ],
 "metadata": {
  "kernelspec": {
   "display_name": "Python 3",
   "language": "python",
   "name": "python3"
  },
  "language_info": {
   "codemirror_mode": {
    "name": "ipython",
    "version": 3
   },
   "file_extension": ".py",
   "mimetype": "text/x-python",
   "name": "python",
   "nbconvert_exporter": "python",
   "pygments_lexer": "ipython3",
   "version": "3.9.2"
  }
 },
 "nbformat": 4,
 "nbformat_minor": 5
}
